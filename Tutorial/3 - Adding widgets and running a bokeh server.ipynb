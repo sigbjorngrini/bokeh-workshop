{
 "cells": [
  {
   "cell_type": "markdown",
   "metadata": {},
   "source": [
    "# Adding widgets"
   ]
  },
  {
   "cell_type": "markdown",
   "metadata": {},
   "source": [
    "The bokeh plotting feature already gives us some interaction possibilities, but we can customize with our own widgets"
   ]
  },
  {
   "cell_type": "code",
   "execution_count": null,
   "metadata": {},
   "outputs": [],
   "source": [
    "import pandas as pd\n",
    "import numpy as np\n",
    "from stats_tennis import player_stats\n",
    "from bokeh.layouts import row, column\n",
    "from bokeh.models import ColumnDataSource\n",
    "from bokeh.plotting import figure\n",
    "from bokeh.io import output_notebook, show"
   ]
  },
  {
   "cell_type": "code",
   "execution_count": null,
   "metadata": {},
   "outputs": [],
   "source": [
    "output_notebook()"
   ]
  },
  {
   "cell_type": "code",
   "execution_count": null,
   "metadata": {},
   "outputs": [],
   "source": [
    "matches = pd.read_csv('wta_matches_2018.csv', parse_dates=True)\n",
    "stats = player_stats(matches)"
   ]
  },
  {
   "cell_type": "code",
   "execution_count": null,
   "metadata": {},
   "outputs": [],
   "source": [
    "source = ColumnDataSource(stats)"
   ]
  },
  {
   "cell_type": "markdown",
   "metadata": {},
   "source": [
    "## The Select widget"
   ]
  },
  {
   "cell_type": "markdown",
   "metadata": {},
   "source": [
    "A great thing to have on your dashboard is a dropdown menu where you can choose between some options"
   ]
  },
  {
   "cell_type": "code",
   "execution_count": null,
   "metadata": {},
   "outputs": [],
   "source": [
    "from bokeh.models.widgets import Select"
   ]
  },
  {
   "cell_type": "code",
   "execution_count": null,
   "metadata": {},
   "outputs": [],
   "source": [
    "show(row(Select()))"
   ]
  },
  {
   "cell_type": "code",
   "execution_count": null,
   "metadata": {},
   "outputs": [],
   "source": [
    "tennis_stuff = ['Racket', 'Shoes', 'Tennis ball']\n",
    "select_tennis_stuff = Select(value='Racket', options=tennis_stuff)"
   ]
  },
  {
   "cell_type": "code",
   "execution_count": null,
   "metadata": {},
   "outputs": [],
   "source": [
    "show(row(select_tennis_stuff))"
   ]
  },
  {
   "cell_type": "code",
   "execution_count": null,
   "metadata": {},
   "outputs": [],
   "source": [
    "list(stats.columns)"
   ]
  },
  {
   "cell_type": "code",
   "execution_count": null,
   "metadata": {},
   "outputs": [],
   "source": [
    "select_column = Select(value=list(stats.columns)[0], options=list(stats.columns))"
   ]
  },
  {
   "cell_type": "code",
   "execution_count": null,
   "metadata": {},
   "outputs": [],
   "source": [
    "show(row(select_column))"
   ]
  },
  {
   "cell_type": "markdown",
   "metadata": {},
   "source": [
    "Now we want to be able to change the X and Y axis to waht we want to look at."
   ]
  },
  {
   "cell_type": "code",
   "execution_count": null,
   "metadata": {},
   "outputs": [],
   "source": [
    "# Our code so far\n",
    "\n",
    "select_column_x1 = Select(value='Rank', options=list(stats.columns))\n",
    "select_column_y1 = Select(value='Wins', options=list(stats.columns))\n",
    "select_column_x2 = Select(value='Rank', options=list(stats.columns))\n",
    "select_column_y2 = Select(value='Losses', options=list(stats.columns))\n",
    "\n",
    "fig1 = figure(plot_width=350, plot_height=350,\n",
    "              tools='pan,wheel_zoom,box_select,box_zoom,reset')\n",
    "circles1 = fig1.circle(x='Rank', y='Wins', size=3, source=source,\n",
    "                       selection_color=\"orange\", alpha=0.6, nonselection_alpha=0.1, selection_alpha=0.4)\n",
    "fig2 = figure(plot_width=350, plot_height=350,\n",
    "              tools='pan,wheel_zoom,box_select,box_zoom,reset')\n",
    "circles2 = fig2.circle(x='Rank', y='Losses', size=3, source=source,\n",
    "                       selection_color=\"orange\", alpha=0.6, nonselection_alpha=0.1, selection_alpha=0.4)\n",
    "\n",
    "show(row(column(select_column_x1,\n",
    "                select_column_y1,\n",
    "                fig1),\n",
    "         column(select_column_x2,\n",
    "                select_column_y2,\n",
    "                fig2)))"
   ]
  },
  {
   "cell_type": "markdown",
   "metadata": {},
   "source": [
    "We need to do two things:\n",
    "\n",
    "1. The x and y values in the plot's cannot be set as they are now with 'Rank', 'Wins' and 'Losses'.\n",
    "2. We need to change these variables when a new item on the dropdown menu has been chosen"
   ]
  },
  {
   "cell_type": "code",
   "execution_count": null,
   "metadata": {},
   "outputs": [],
   "source": [
    "# 1\n",
    "\n",
    "source.data = dict(x1=stats[select_column_x1.value],\n",
    "                   y1=stats[select_column_y1.value],\n",
    "                   x2=stats[select_column_x2.value],\n",
    "                   y2=stats[select_column_y2.value])"
   ]
  },
  {
   "cell_type": "code",
   "execution_count": null,
   "metadata": {
    "scrolled": false
   },
   "outputs": [],
   "source": [
    "fig1 = figure(plot_width=350, plot_height=350,\n",
    "              tools='pan,wheel_zoom,box_select,box_zoom,reset')\n",
    "circles1 = fig1.circle(x='x1', y='y1', size=3, source=source,\n",
    "                       selection_color=\"orange\", alpha=0.6, nonselection_alpha=0.1, selection_alpha=0.4)\n",
    "fig2 = figure(plot_width=350, plot_height=350,\n",
    "              tools='pan,wheel_zoom,box_select,box_zoom,reset')\n",
    "circles2 = fig2.circle(x='x2', y='y2', size=3, source=source,\n",
    "                       selection_color=\"orange\", alpha=0.6, nonselection_alpha=0.1, selection_alpha=0.4)\n",
    "\n",
    "show(row(column(select_column_x1,\n",
    "                select_column_y1,\n",
    "                fig1),\n",
    "         column(select_column_x2,\n",
    "                select_column_y2,\n",
    "                fig2)))"
   ]
  },
  {
   "cell_type": "code",
   "execution_count": null,
   "metadata": {},
   "outputs": [],
   "source": [
    "selectors = [select_column_x1, select_column_y1,\n",
    "             select_column_x2, select_column_y2]\n",
    "\n",
    "def update_plots(attrname, old, new):\n",
    "    \"\"\"\n",
    "    Update the plots in our bokeh dashboard\n",
    "    \"\"\"\n",
    "    \n",
    "    source.data = dict(x1=stats[select_column_x1.value],\n",
    "                       y1=stats[select_column_y1.value],\n",
    "                       x2=stats[select_column_x2.value],\n",
    "                       y2=stats[select_column_y2.value])\n",
    "        \n",
    "for widget in selectors:\n",
    "    widget.on_change('value', update_plots)"
   ]
  },
  {
   "cell_type": "code",
   "execution_count": null,
   "metadata": {
    "scrolled": false
   },
   "outputs": [],
   "source": [
    "show(row(column(select_column_x1,\n",
    "                select_column_y1,\n",
    "                fig1),\n",
    "         column(select_column_x2,\n",
    "                select_column_y2,\n",
    "                fig2)))"
   ]
  },
  {
   "cell_type": "markdown",
   "metadata": {},
   "source": [
    "We need to run a bokeh server!"
   ]
  },
  {
   "cell_type": "code",
   "execution_count": null,
   "metadata": {},
   "outputs": [],
   "source": [
    "def modify_doc(doc):\n",
    "    \n",
    "    # Widgets\n",
    "    \n",
    "    select_column_x1 = Select(value='Rank', options=list(stats.columns[1:]))\n",
    "    select_column_y1 = Select(value='Wins', options=list(stats.columns[1:]))\n",
    "    select_column_x2 = Select(value='Rank', options=list(stats.columns[1:]))\n",
    "    select_column_y2 = Select(value='Losses', options=list(stats.columns[1:]))\n",
    "    \n",
    "    selectors = [select_column_x1, select_column_y1,\n",
    "                 select_column_x2, select_column_y2]\n",
    "    \n",
    "    # Source\n",
    "    \n",
    "    source = ColumnDataSource(data=dict(x1=stats[select_column_x1.value],\n",
    "                                        y1=stats[select_column_y1.value],\n",
    "                                        x2=stats[select_column_x2.value],\n",
    "                                        y2=stats[select_column_y2.value]))\n",
    "    \n",
    "    # Plots\n",
    "    \n",
    "    fig1 = figure(plot_width=350, plot_height=350,\n",
    "                  tools='pan,wheel_zoom,box_select,box_zoom,reset')\n",
    "    circles1 = fig1.circle(x='x1', y='y1', size=3, source=source,\n",
    "                           selection_color=\"orange\", alpha=0.6, nonselection_alpha=0.1, selection_alpha=0.4)\n",
    "    fig2 = figure(plot_width=350, plot_height=350,\n",
    "                  tools='pan,wheel_zoom,box_select,box_zoom,reset')\n",
    "    circles2 = fig2.circle(x='x2', y='y2', size=3, source=source,\n",
    "                           selection_color=\"orange\", alpha=0.6, nonselection_alpha=0.1, selection_alpha=0.4)\n",
    "    \n",
    "    \n",
    "    # Callback\n",
    "    \n",
    "    def update_plots(attrname, old, new):\n",
    "        \"\"\"\n",
    "        Update the plots in our bokeh dashboard\n",
    "        \"\"\"\n",
    "        \n",
    "        source.data = dict(x1=stats[select_column_x1.value],\n",
    "                           y1=stats[select_column_y1.value],\n",
    "                           x2=stats[select_column_x2.value],\n",
    "                           y2=stats[select_column_y2.value])\n",
    "\n",
    "    for widget in selectors:\n",
    "        widget.on_change('value', update_plots)\n",
    "    \n",
    "    # Layout\n",
    "    \n",
    "    layout = row(column(select_column_x1,\n",
    "                        select_column_y1,\n",
    "                        fig1),\n",
    "                 column(select_column_x2,\n",
    "                        select_column_y2,\n",
    "                        fig2))\n",
    "\n",
    "    doc.add_root(layout)\n",
    "    \n",
    "show(modify_doc)"
   ]
  },
  {
   "cell_type": "markdown",
   "metadata": {},
   "source": [
    "## Slider"
   ]
  },
  {
   "cell_type": "markdown",
   "metadata": {},
   "source": [
    "We also want to include a slider. Let's be able to change the size of our points!"
   ]
  },
  {
   "cell_type": "code",
   "execution_count": null,
   "metadata": {},
   "outputs": [],
   "source": [
    "from bokeh.models.widgets import Slider"
   ]
  },
  {
   "cell_type": "code",
   "execution_count": null,
   "metadata": {},
   "outputs": [],
   "source": [
    "size_slider = Slider(start=1, end=20, value=3, title=\"Marker size\")"
   ]
  },
  {
   "cell_type": "code",
   "execution_count": null,
   "metadata": {
    "scrolled": true
   },
   "outputs": [],
   "source": [
    "show(row(size_slider))"
   ]
  },
  {
   "cell_type": "code",
   "execution_count": null,
   "metadata": {},
   "outputs": [],
   "source": [
    "def modify_doc(doc):\n",
    "    \n",
    "    # Widgets\n",
    "    \n",
    "    select_column_x1 = Select(value='Rank', options=list(stats.columns[1:]))\n",
    "    select_column_y1 = Select(value='Wins', options=list(stats.columns[1:]))\n",
    "    select_column_x2 = Select(value='Rank', options=list(stats.columns[1:]))\n",
    "    select_column_y2 = Select(value='Losses', options=list(stats.columns[1:]))\n",
    "    \n",
    "    selectors = [select_column_x1, select_column_y1,\n",
    "                 select_column_x2, select_column_y2]\n",
    "    \n",
    "    size_slider = Slider(start=1, end=20, value=3, title=\"Marker size\")\n",
    "    \n",
    "    sliders = [size_slider]\n",
    "    \n",
    "    widgets = selectors + sliders\n",
    "    \n",
    "    # Source\n",
    "    \n",
    "    source = ColumnDataSource(data=dict(x1=stats[select_column_x1.value],\n",
    "                                        y1=stats[select_column_y1.value],\n",
    "                                        x2=stats[select_column_x2.value],\n",
    "                                        y2=stats[select_column_y2.value]))\n",
    "    \n",
    "    # Plots\n",
    "    \n",
    "    fig1 = figure(plot_width=350, plot_height=350,\n",
    "                  tools='pan,wheel_zoom,box_select,box_zoom,reset')\n",
    "    circles1 = fig1.circle(x='x1', y='y1', size=3, source=source,\n",
    "                           selection_color=\"orange\", alpha=0.6, nonselection_alpha=0.1, selection_alpha=0.4)\n",
    "    fig2 = figure(plot_width=350, plot_height=350,\n",
    "                  tools='pan,wheel_zoom,box_select,box_zoom,reset')\n",
    "    circles2 = fig2.circle(x='x2', y='y2', size=3, source=source,\n",
    "                           selection_color=\"orange\", alpha=0.6, nonselection_alpha=0.1, selection_alpha=0.4)\n",
    "    \n",
    "    \n",
    "    # Callback\n",
    "    \n",
    "    def update_plots(attrname, old, new):\n",
    "        \"\"\"\n",
    "        Update the plots in our bokeh dashboard\n",
    "        \"\"\"\n",
    "        \n",
    "        source.data = dict(x1=stats[select_column_x1.value],\n",
    "                           y1=stats[select_column_y1.value],\n",
    "                           x2=stats[select_column_x2.value],\n",
    "                           y2=stats[select_column_y2.value])\n",
    "            \n",
    "        for circles in [circles1, circles2]:\n",
    "            circles.glyph.size = size_slider.value\n",
    "\n",
    "    for widget in widgets:\n",
    "        widget.on_change('value', update_plots)\n",
    "    \n",
    "    # Layout\n",
    "    \n",
    "    layout = row(column(select_column_x1,\n",
    "                        select_column_y1,\n",
    "                        fig1, size_slider),\n",
    "                 column(select_column_x2,\n",
    "                        select_column_y2,\n",
    "                        fig2))\n",
    "\n",
    "    doc.add_root(layout)\n",
    "    \n",
    "show(modify_doc)"
   ]
  },
  {
   "cell_type": "markdown",
   "metadata": {},
   "source": [
    " We also want to limit the amount of players we look at by dragging a slider. For this we need a RangeSlider"
   ]
  },
  {
   "cell_type": "code",
   "execution_count": null,
   "metadata": {},
   "outputs": [],
   "source": [
    "from bokeh.models.widgets import RangeSlider"
   ]
  },
  {
   "cell_type": "code",
   "execution_count": null,
   "metadata": {},
   "outputs": [],
   "source": [
    "stats['Rank'].max()"
   ]
  },
  {
   "cell_type": "markdown",
   "metadata": {},
   "source": [
    "Max rank is 1051 who played on the WTA tour last year."
   ]
  },
  {
   "cell_type": "code",
   "execution_count": null,
   "metadata": {},
   "outputs": [],
   "source": [
    "rank_slider = RangeSlider(start=0, end=max(stats['Rank']),\n",
    "                              value=(0, max(stats['Rank'])), title='Rank interval')"
   ]
  },
  {
   "cell_type": "code",
   "execution_count": null,
   "metadata": {},
   "outputs": [],
   "source": [
    "show(row(rank_slider))"
   ]
  },
  {
   "cell_type": "code",
   "execution_count": null,
   "metadata": {},
   "outputs": [],
   "source": [
    "rank_slider.value"
   ]
  },
  {
   "cell_type": "code",
   "execution_count": null,
   "metadata": {
    "scrolled": false
   },
   "outputs": [],
   "source": [
    "def modify_doc(doc):\n",
    "    \n",
    "    # Widgets\n",
    "    \n",
    "    select_column_x1 = Select(value='Rank', options=list(stats.columns[1:]))\n",
    "    select_column_y1 = Select(value='Wins', options=list(stats.columns[1:]))\n",
    "    select_column_x2 = Select(value='Rank', options=list(stats.columns[1:]))\n",
    "    select_column_y2 = Select(value='Losses', options=list(stats.columns[1:]))\n",
    "    \n",
    "    selectors = [select_column_x1, select_column_y1,\n",
    "                 select_column_x2, select_column_y2]\n",
    "    \n",
    "    size_slider = Slider(start=1, end=20, value=3, title=\"Marker size\")\n",
    "    \n",
    "    rank_slider = RangeSlider(start=0, end=max(stats['Rank']),\n",
    "                              value=(0, max(stats['Rank'])), title='Rank interval')\n",
    "    \n",
    "    sliders = [size_slider, rank_slider]\n",
    "    \n",
    "    widgets = selectors + sliders\n",
    "    \n",
    "    # Source\n",
    "    \n",
    "    source = ColumnDataSource(data=dict(x1=stats[select_column_x1.value],\n",
    "                                        y1=stats[select_column_y1.value],\n",
    "                                        x2=stats[select_column_x2.value],\n",
    "                                        y2=stats[select_column_y2.value]))\n",
    "    \n",
    "    # Plots\n",
    "    \n",
    "    fig1 = figure(plot_width=350, plot_height=350,\n",
    "                  tools='pan,wheel_zoom,box_select,box_zoom,reset')\n",
    "    circles1 = fig1.circle(x='x1', y='y1', size=3, source=source,\n",
    "                           selection_color=\"orange\", alpha=0.6, nonselection_alpha=0.1, selection_alpha=0.4)\n",
    "    fig2 = figure(plot_width=350, plot_height=350,\n",
    "                  tools='pan,wheel_zoom,box_select,box_zoom,reset')\n",
    "    circles2 = fig2.circle(x='x2', y='y2', size=3, source=source,\n",
    "                           selection_color=\"orange\", alpha=0.6, nonselection_alpha=0.1, selection_alpha=0.4)\n",
    "    \n",
    "    \n",
    "    # Callback\n",
    "    \n",
    "    def update_plots(attrname, old, new):\n",
    "        \"\"\"\n",
    "        Update the plots in our bokeh dashboard\n",
    "        \"\"\"\n",
    "        \n",
    "        rank_interval = (stats['Rank'] > rank_slider.value[0]) & (stats['Rank'] < rank_slider.value[1])\n",
    "        \n",
    "        source.data = dict(x1=stats[rank_interval][select_column_x1.value],\n",
    "                           y1=stats[rank_interval][select_column_y1.value],\n",
    "                           x2=stats[rank_interval][select_column_x2.value],\n",
    "                           y2=stats[rank_interval][select_column_y2.value])\n",
    "            \n",
    "        for circles in [circles1, circles2]:\n",
    "            circles.glyph.size = size_slider.value\n",
    "\n",
    "    for widget in widgets:\n",
    "        widget.on_change('value', update_plots)\n",
    "    \n",
    "    # Layout\n",
    "    \n",
    "    layout = row(column(select_column_x1,\n",
    "                        select_column_y1,\n",
    "                        fig1, size_slider,\n",
    "                        rank_slider),\n",
    "                 column(select_column_x2,\n",
    "                        select_column_y2,\n",
    "                        fig2))\n",
    "\n",
    "    doc.add_root(layout)\n",
    "    \n",
    "show(modify_doc)"
   ]
  },
  {
   "cell_type": "markdown",
   "metadata": {},
   "source": [
    "# Tooltips"
   ]
  },
  {
   "cell_type": "markdown",
   "metadata": {},
   "source": [
    "It could be nice to know which players we are looking at, so we can hover over them and get information."
   ]
  },
  {
   "cell_type": "markdown",
   "metadata": {},
   "source": [
    "Bokeh has nice documentation on this:\n",
    "\n",
    "https://bokeh.pydata.org/en/latest/docs/user_guide/tools.html#userguide-tools-inspectors"
   ]
  },
  {
   "cell_type": "code",
   "execution_count": null,
   "metadata": {
    "scrolled": false
   },
   "outputs": [],
   "source": [
    "def modify_doc(doc):\n",
    "    \n",
    "    # Widgets\n",
    "    \n",
    "    select_column_x1 = Select(value='Rank', options=list(stats.columns[1:]))\n",
    "    select_column_y1 = Select(value='Wins', options=list(stats.columns[1:]))\n",
    "    select_column_x2 = Select(value='Rank', options=list(stats.columns[1:]))\n",
    "    select_column_y2 = Select(value='Losses', options=list(stats.columns[1:]))\n",
    "    \n",
    "    selectors = [select_column_x1, select_column_y1,\n",
    "                 select_column_x2, select_column_y2]\n",
    "    \n",
    "    size_slider = Slider(start=1, end=20, value=3, title=\"Marker size\")\n",
    "    \n",
    "    rank_slider = RangeSlider(start=0, end=max(stats['Rank']),\n",
    "                              value=(0, max(stats['Rank'])), title='Rank interval')\n",
    "    \n",
    "    sliders = [size_slider, rank_slider]\n",
    "    \n",
    "    widgets = selectors + sliders\n",
    "    \n",
    "    # Tooltips\n",
    "    \n",
    "    TOOLTIPS = [\n",
    "    (\"\", \"@name\")\n",
    "    ]\n",
    "    \n",
    "    # Source\n",
    "    \n",
    "    source = ColumnDataSource(data=dict(x1=stats[select_column_x1.value],\n",
    "                                        y1=stats[select_column_y1.value],\n",
    "                                        x2=stats[select_column_x2.value],\n",
    "                                        y2=stats[select_column_y2.value],\n",
    "                                        name=stats['Name']))\n",
    "    \n",
    "    # Plots\n",
    "    \n",
    "    fig1 = figure(plot_width=350, plot_height=350,\n",
    "                  tools='pan,wheel_zoom,box_select,box_zoom,reset', tooltips=TOOLTIPS)\n",
    "    circles1 = fig1.circle(x='x1', y='y1', size=3, source=source,\n",
    "                           selection_color=\"orange\", alpha=0.6, nonselection_alpha=0.1, selection_alpha=0.4)\n",
    "    fig2 = figure(plot_width=350, plot_height=350,\n",
    "                  tools='pan,wheel_zoom,box_select,box_zoom,reset', tooltips=TOOLTIPS)\n",
    "    circles2 = fig2.circle(x='x2', y='y2', size=3, source=source,\n",
    "                           selection_color=\"orange\", alpha=0.6, nonselection_alpha=0.1, selection_alpha=0.4)\n",
    "    \n",
    "    \n",
    "    # Callback\n",
    "    \n",
    "    def update_plots(attrname, old, new):\n",
    "        \"\"\"\n",
    "        Update the plots in our bokeh dashboard\n",
    "        \"\"\"\n",
    "        \n",
    "        rank_interval = (stats['Rank'] > rank_slider.value[0]) & (stats['Rank'] < rank_slider.value[1])\n",
    "        \n",
    "        source.data = dict(x1=stats[rank_interval][select_column_x1.value],\n",
    "                           y1=stats[rank_interval][select_column_y1.value],\n",
    "                           x2=stats[rank_interval][select_column_x2.value],\n",
    "                           y2=stats[rank_interval][select_column_y2.value],\n",
    "                           name=stats[rank_interval]['Name'])\n",
    "            \n",
    "        for circles in [circles1, circles2]:\n",
    "            circles.glyph.size = size_slider.value\n",
    "\n",
    "    for widget in widgets:\n",
    "        widget.on_change('value', update_plots)\n",
    "    \n",
    "    # Layout\n",
    "    \n",
    "    layout = row(column(select_column_x1,\n",
    "                        select_column_y1,\n",
    "                        fig1, size_slider,\n",
    "                        rank_slider),\n",
    "                 column(select_column_x2,\n",
    "                        select_column_y2,\n",
    "                        fig2))\n",
    "\n",
    "    doc.add_root(layout)\n",
    "    \n",
    "show(modify_doc)"
   ]
  },
  {
   "cell_type": "markdown",
   "metadata": {},
   "source": [
    "# Bokeh server"
   ]
  },
  {
   "cell_type": "markdown",
   "metadata": {},
   "source": [
    "We talked earlier about needing a bokeh server. Sometimes it is nice to have the dashboard seperate from a Jupyter Notebook. We need then to copy what we have in the modify_doc function and put it in a separate file. We also need to add all the package import."
   ]
  },
  {
   "cell_type": "code",
   "execution_count": null,
   "metadata": {},
   "outputs": [],
   "source": [
    "import pandas as pd\n",
    "import numpy as np\n",
    "\n",
    "from stats_tennis import player_stats\n",
    "from bokeh.layouts import row, column\n",
    "from bokeh.models import ColumnDataSource\n",
    "from bokeh.models.widgets import Slider, RangeSlider, Select\n",
    "from bokeh.plotting import figure\n",
    "from bokeh.io import curdoc, show\n",
    "\n",
    "matches = pd.read_csv('wta_matches_2018.csv', parse_dates=True)\n",
    "stats = player_stats(matches)\n",
    "\n",
    "# Widgets\n",
    "    \n",
    "select_column_x1 = Select(value='Rank', options=list(stats.columns[1:]))\n",
    "select_column_y1 = Select(value='Wins', options=list(stats.columns[1:]))\n",
    "select_column_x2 = Select(value='Rank', options=list(stats.columns[1:]))\n",
    "select_column_y2 = Select(value='Losses', options=list(stats.columns[1:]))\n",
    "\n",
    "selectors = [select_column_x1, select_column_y1,\n",
    "             select_column_x2, select_column_y2]\n",
    "\n",
    "size_slider = Slider(start=1, end=20, value=3, title=\"Marker size\")\n",
    "\n",
    "rank_slider = RangeSlider(start=0, end=max(stats['Rank']),\n",
    "                          value=(0, max(stats['Rank'])), title='Rank interval')\n",
    "\n",
    "sliders = [size_slider, rank_slider]\n",
    "\n",
    "widgets = selectors + sliders\n",
    "\n",
    "# Tooltips\n",
    "\n",
    "TOOLTIPS = [\n",
    "(\"\", \"@name\")\n",
    "]\n",
    "\n",
    "# Source\n",
    "\n",
    "source = ColumnDataSource(data=dict(x1=stats[select_column_x1.value],\n",
    "                                    y1=stats[select_column_y1.value],\n",
    "                                    x2=stats[select_column_x2.value],\n",
    "                                    y2=stats[select_column_y2.value],\n",
    "                                    name=stats['Name']))\n",
    "\n",
    "# Plots\n",
    "\n",
    "fig1 = figure(plot_width=350, plot_height=350,\n",
    "              tools='pan,wheel_zoom,box_select,box_zoom,reset', tooltips=TOOLTIPS)\n",
    "circles1 = fig1.circle(x='x1', y='y1', size=3, source=source,\n",
    "                       selection_color=\"orange\", alpha=0.6, nonselection_alpha=0.1, selection_alpha=0.4)\n",
    "fig2 = figure(plot_width=350, plot_height=350,\n",
    "              tools='pan,wheel_zoom,box_select,box_zoom,reset', tooltips=TOOLTIPS)\n",
    "circles2 = fig2.circle(x='x2', y='y2', size=3, source=source,\n",
    "                       selection_color=\"orange\", alpha=0.6, nonselection_alpha=0.1, selection_alpha=0.4)\n",
    "\n",
    "\n",
    "# Callback\n",
    "\n",
    "def update_plots(attrname, old, new):\n",
    "    \"\"\"\n",
    "    Update the plots in our bokeh dashboard\n",
    "    \"\"\"\n",
    "\n",
    "    rank_interval = (stats['Rank'] > rank_slider.value[0]) & (stats['Rank'] < rank_slider.value[1])\n",
    "\n",
    "    source.data = dict(x1=stats[rank_interval][select_column_x1.value],\n",
    "                       y1=stats[rank_interval][select_column_y1.value],\n",
    "                       x2=stats[rank_interval][select_column_x2.value],\n",
    "                       y2=stats[rank_interval][select_column_y2.value],\n",
    "                       name=stats[rank_interval]['Name'])\n",
    "\n",
    "    for circles in [circles1, circles2]:\n",
    "        circles.glyph.size = size_slider.value\n",
    "\n",
    "for widget in widgets:\n",
    "    widget.on_change('value', update_plots)\n",
    "\n",
    "# Layout\n",
    "\n",
    "layout = row(column(select_column_x1,\n",
    "                    select_column_y1,\n",
    "                    fig1, size_slider,\n",
    "                    rank_slider),\n",
    "             column(select_column_x2,\n",
    "                    select_column_y2,\n",
    "                    fig2))\n",
    "\n",
    "curdoc().add_root(layout)"
   ]
  },
  {
   "cell_type": "markdown",
   "metadata": {},
   "source": [
    "# Try yourself"
   ]
  },
  {
   "cell_type": "markdown",
   "metadata": {},
   "source": [
    "Choose whichever you want to do:\n",
    "\n",
    "1. Change colors of the points\n",
    "2. Change start axis values\n",
    "3. Put on axis labels\n",
    "4. Add a new slider\n",
    "5. Add a new plot\n",
    "6. Add a new feature"
   ]
  }
 ],
 "metadata": {
  "kernelspec": {
   "display_name": "Python 3",
   "language": "python",
   "name": "python3"
  },
  "language_info": {
   "codemirror_mode": {
    "name": "ipython",
    "version": 3
   },
   "file_extension": ".py",
   "mimetype": "text/x-python",
   "name": "python",
   "nbconvert_exporter": "python",
   "pygments_lexer": "ipython3",
   "version": "3.6.5"
  }
 },
 "nbformat": 4,
 "nbformat_minor": 2
}
