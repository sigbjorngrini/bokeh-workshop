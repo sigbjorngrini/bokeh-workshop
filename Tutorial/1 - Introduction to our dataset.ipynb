{
 "cells": [
  {
   "cell_type": "markdown",
   "metadata": {},
   "source": [
    "# Make sure python and bokeh is installed"
   ]
  },
  {
   "cell_type": "markdown",
   "metadata": {},
   "source": [
    "We need to check that all have correct versions of packages"
   ]
  },
  {
   "cell_type": "code",
   "execution_count": 12,
   "metadata": {},
   "outputs": [
    {
     "name": "stdout",
     "output_type": "stream",
     "text": [
      "3.7.1 | packaged by conda-forge | (default, Nov 13 2018, 19:01:41) [MSC v.1900 64 bit (AMD64)]\n"
     ]
    }
   ],
   "source": [
    "import sys\n",
    "print(sys.version)"
   ]
  },
  {
   "cell_type": "code",
   "execution_count": null,
   "metadata": {},
   "outputs": [],
   "source": [
    "import bokeh\n",
    "bokeh.__version__"
   ]
  },
  {
   "cell_type": "code",
   "execution_count": null,
   "metadata": {},
   "outputs": [],
   "source": [
    "import numpy\n",
    "numpy.__version__"
   ]
  },
  {
   "cell_type": "code",
   "execution_count": null,
   "metadata": {},
   "outputs": [],
   "source": [
    "import pandas\n",
    "pandas.__version__"
   ]
  },
  {
   "cell_type": "markdown",
   "metadata": {},
   "source": [
    "Then we import packages we need to use. Pandas and Numpy are very common packages for those who work with data. We import as \"pd\" as a short name for pandas since we want to use many functions from the pandas package and do not want to confuse with functions from other packages. "
   ]
  },
  {
   "cell_type": "code",
   "execution_count": null,
   "metadata": {},
   "outputs": [],
   "source": [
    "import pandas as pd\n",
    "import numpy as np"
   ]
  },
  {
   "cell_type": "markdown",
   "metadata": {},
   "source": [
    "Let's import our dataset. It contributed to the public by https://github.com/JeffSackmann/tennis_wta."
   ]
  },
  {
   "cell_type": "code",
   "execution_count": null,
   "metadata": {},
   "outputs": [],
   "source": [
    "matches = pd.read_csv('wta_matches_2018.csv', parse_dates=True)"
   ]
  },
  {
   "cell_type": "code",
   "execution_count": null,
   "metadata": {},
   "outputs": [],
   "source": [
    "matches"
   ]
  },
  {
   "cell_type": "markdown",
   "metadata": {},
   "source": [
    "The data are not that easy to make sense of, let's make them a bit easier.  \n",
    "The code underneath is made to make a more sensible dataset. No need to understand it fully."
   ]
  },
  {
   "cell_type": "code",
   "execution_count": null,
   "metadata": {},
   "outputs": [],
   "source": [
    "def player_stats(matches):\n",
    "    \"\"\"\n",
    "    Returns a pandas dataframe with player info for all players who lost a match\n",
    "    in the pandas dataframe :matches:\n",
    "    \n",
    "    :matches: (pandas dataframe) matches which contains the same info as\n",
    "        wta_matches_2018.csv on https://github.com/JeffSackmann/tennis_wta\n",
    "        \n",
    "    This function is made as a part of the bokeh workshop and is not properly unit tested.\n",
    "    \"\"\"\n",
    "    \n",
    "    players = list(np.unique(matches['loser_name']))\n",
    "    player_stats = pd.DataFrame(players)\n",
    "    player_stats.columns = ['Name']\n",
    "    losses = []\n",
    "    wins = []\n",
    "    rank = []\n",
    "    age = []\n",
    "    minutes_played = []\n",
    "    first_sv_pct = []\n",
    "    bp_save_pct = []\n",
    "\n",
    "    matches_won = matches.groupby('winner_name')\n",
    "    matches_lost = matches.groupby('loser_name')\n",
    "\n",
    "    for index, row in player_stats.iterrows():\n",
    "\n",
    "\n",
    "\n",
    "        # Wins\n",
    "        if row['Name'] in matches_won.groups.keys():\n",
    "            wins.append(matches_won.count().loc[row['Name'], :].iloc[0])\n",
    "        else:\n",
    "            wins.append(0)\n",
    "\n",
    "        # Losses\n",
    "        losses.append(matches_lost.count().loc[row['Name'], :].iloc[0])\n",
    "        \n",
    "        # Minutes played\n",
    "        \n",
    "        minutes = []\n",
    "        if row['Name'] in matches_won.groups.keys():\n",
    "            minutes.append(matches_won.sum().loc[row['Name'], :].loc['minutes'])\n",
    "        minutes.append(matches_lost.sum().loc[row['Name'], :].loc['minutes'])\n",
    "        minutes_played.append(sum(minutes))\n",
    "\n",
    "        # Age\n",
    "        player_age_avg = []\n",
    "        if row['Name'] in matches_won.groups.keys():\n",
    "            player_age_avg.append(matches_won.mean().loc[row['Name'], :].loc['winner_age'])\n",
    "        player_age_avg.append(matches_lost.mean().loc[row['Name'], :].loc['loser_age'])\n",
    "        age.append(np.mean(player_age_avg))\n",
    "\n",
    "        # Rank\n",
    "        player_rank_avg = []\n",
    "        if row['Name'] in matches_won.groups.keys():\n",
    "            player_rank_avg.append(matches_won.mean().loc[row['Name'], :].loc['winner_rank'])\n",
    "        player_rank_avg.append(matches_lost.mean().loc[row['Name'], :].loc['loser_rank'])\n",
    "        rank.append(np.mean(player_rank_avg))\n",
    "        \n",
    "\n",
    "        # Serve stats\n",
    "        serve_points = []\n",
    "        first_serve = []\n",
    "        if row['Name'] in matches_won.groups.keys():\n",
    "            serve_points.append(matches_won.sum().loc[row['Name'], :].loc['w_svpt'])\n",
    "            first_serve.append(matches_won.sum().loc[row['Name'], :].loc['w_1stIn'])\n",
    "        serve_points.append(matches_lost.sum().loc[row['Name'], :].loc['l_svpt'])\n",
    "        first_serve.append(matches_lost.sum().loc[row['Name'], :].loc['l_1stIn'])\n",
    "        first_sv_pct.append(sum(first_serve) / sum(serve_points))\n",
    "\n",
    "        # Break points saved\n",
    "        bp_faced = []\n",
    "        bp_saved = []\n",
    "        if row['Name'] in matches_won.groups.keys():\n",
    "            bp_faced.append(matches_won.sum().loc[row['Name'], :].loc['w_bpFaced'])\n",
    "            bp_saved.append(matches_won.sum().loc[row['Name'], :].loc['w_bpSaved'])\n",
    "        bp_faced.append(matches_lost.sum().loc[row['Name'], :].loc['l_bpFaced'])\n",
    "        bp_saved.append(matches_lost.sum().loc[row['Name'], :].loc['l_bpSaved'])\n",
    "        bp_save_pct.append(sum(bp_saved) / sum(bp_faced))\n",
    "\n",
    "    player_stats['Wins'] = wins\n",
    "    player_stats['Losses'] = losses\n",
    "    player_stats['Win/loss ratio'] = player_stats['Wins'] / player_stats['Losses']\n",
    "    player_stats['Matches played'] = player_stats['Wins'] + player_stats['Losses']\n",
    "    player_stats['Minutes played'] = minutes_played\n",
    "    player_stats['Average match time'] = player_stats['Minutes played'] / player_stats['Matches played']\n",
    "    player_stats['Age'] = age\n",
    "    player_stats['Rank'] = rank\n",
    "    player_stats['First serve %'] = first_sv_pct\n",
    "    player_stats['Break points save %'] = bp_save_pct\n",
    "    \n",
    "    return player_stats"
   ]
  },
  {
   "cell_type": "code",
   "execution_count": null,
   "metadata": {},
   "outputs": [],
   "source": [
    "stats = player_stats(matches)"
   ]
  },
  {
   "cell_type": "code",
   "execution_count": null,
   "metadata": {},
   "outputs": [],
   "source": [
    "stats"
   ]
  }
 ],
 "metadata": {
  "hide_input": false,
  "kernelspec": {
   "display_name": "Python 3",
   "language": "python",
   "name": "python3"
  },
  "language_info": {
   "codemirror_mode": {
    "name": "ipython",
    "version": 3
   },
   "file_extension": ".py",
   "mimetype": "text/x-python",
   "name": "python",
   "nbconvert_exporter": "python",
   "pygments_lexer": "ipython3",
   "version": "3.7.1"
  },
  "latex_envs": {
   "LaTeX_envs_menu_present": true,
   "autoclose": false,
   "autocomplete": true,
   "bibliofile": "biblio.bib",
   "cite_by": "apalike",
   "current_citInitial": 1,
   "eqLabelWithNumbers": true,
   "eqNumInitial": 1,
   "hotkeys": {
    "equation": "Ctrl-E",
    "itemize": "Ctrl-I"
   },
   "labels_anchors": false,
   "latex_user_defs": false,
   "report_style_numbering": false,
   "user_envs_cfg": false
  },
  "toc": {
   "base_numbering": 1,
   "nav_menu": {},
   "number_sections": true,
   "sideBar": true,
   "skip_h1_title": false,
   "title_cell": "Table of Contents",
   "title_sidebar": "Contents",
   "toc_cell": false,
   "toc_position": {},
   "toc_section_display": true,
   "toc_window_display": false
  }
 },
 "nbformat": 4,
 "nbformat_minor": 2
}
